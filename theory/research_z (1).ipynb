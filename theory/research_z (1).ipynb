{
 "cells": [
  {
   "cell_type": "markdown",
   "id": "ef6ae7df",
   "metadata": {},
   "source": [
    "# импорты"
   ]
  },
  {
   "cell_type": "code",
   "execution_count": 1,
   "id": "ca51f9aa",
   "metadata": {},
   "outputs": [],
   "source": [
    "import pandas as pd\n",
    "import numpy as np\n",
    "from jury import Jury\n",
    "from bs4 import BeautifulSoup\n",
    "from collections import Counter\n",
    "from nltk import word_tokenize, ngrams"
   ]
  },
  {
   "cell_type": "code",
   "execution_count": 2,
   "id": "471b629e",
   "metadata": {},
   "outputs": [],
   "source": [
    "#stop_list = ' ,./?«\":»()1234567890§—-™æ°+₽♦•■№{®£½”“=&©|„º}–⅟…$†‡́’*¬~<>_‘][^'\n",
    "stop_list = list('¬ ')"
   ]
  },
  {
   "cell_type": "code",
   "execution_count": 3,
   "id": "562d80f0",
   "metadata": {},
   "outputs": [],
   "source": [
    "def line_signs(line):\n",
    "    return line.replace('\\n', '').replace('\\t', '').replace('\\u2003', '')"
   ]
  },
  {
   "cell_type": "code",
   "execution_count": 4,
   "id": "dea8a5d5",
   "metadata": {},
   "outputs": [],
   "source": [
    "# read original file\n",
    "with open('new', 'r', encoding='utf-8') as f:\n",
    "    soup_raw = [line_signs(f.read())]"
   ]
  },
  {
   "cell_type": "code",
   "execution_count": 6,
   "id": "2304fc42",
   "metadata": {},
   "outputs": [],
   "source": [
    "# read clean file\n",
    "with open('volume_32.xml', 'r', encoding='utf-8') as f:\n",
    "    soup_cleaned = [line_signs(BeautifulSoup(f, 'xml').get_text())]"
   ]
  },
  {
   "cell_type": "markdown",
   "id": "3e4c0e38",
   "metadata": {},
   "source": [
    "в качестве чистого файла у нас 32 том из папки дата, в качестве базового - самый-самый первый распознанный файл, который еще в документе майкрософта живет."
   ]
  },
  {
   "cell_type": "code",
   "execution_count": 8,
   "id": "3a27f839",
   "metadata": {},
   "outputs": [],
   "source": [
    "# character count\n",
    "c_raw = dict(Counter(soup_raw[0].lower()))\n",
    "c_cleaned = dict(Counter(soup_cleaned[0].lower()))"
   ]
  },
  {
   "cell_type": "markdown",
   "id": "e4a3417a",
   "metadata": {},
   "source": [
    "мы подсчитали, сколько и каких у нас символов встретилось в каждом документе. Если бы распознавание работало идеально, эти числа были бы одинаковы для всех символов, ведь мы имеем дело с одним и тем же документом. Если распознавание работает не идеально, но никакие конкретные символы не страдают особенно часто, то разница между числом всех символов в двух документов не выйдет за пределы стандартного отклонения. Сейчас мы будем пытаться найти символы, для которых эта разница все-таки выходит за стандартное отклонение, держа в голове док с частыми ошибками, встреченными разметчиками."
   ]
  },
  {
   "cell_type": "markdown",
   "id": "e0307698",
   "metadata": {},
   "source": [
    "для удобства работы сведем полученные количества в один датафрейм"
   ]
  },
  {
   "cell_type": "code",
   "execution_count": 9,
   "id": "a507431a",
   "metadata": {},
   "outputs": [],
   "source": [
    "frame_c_raw = pd.DataFrame.from_dict(c_raw, orient='index')\n",
    "frame_c_cleaned = pd.DataFrame.from_dict(c_cleaned, orient='index')"
   ]
  },
  {
   "cell_type": "code",
   "execution_count": 10,
   "id": "150c3e6c",
   "metadata": {},
   "outputs": [],
   "source": [
    "frame_c = pd.concat([frame_c_raw, frame_c_cleaned], axis=1)"
   ]
  },
  {
   "cell_type": "code",
   "execution_count": null,
   "id": "8a7de787",
   "metadata": {},
   "outputs": [],
   "source": [
    "frame_c.columns = ['raw', 'clean']\n",
    "frame_c = frame_c.fillna(0)\n",
    "frame_c_compared = frame_c.drop(stop_list)\n",
    "frame_c_compared"
   ]
  },
  {
   "cell_type": "markdown",
   "id": "5d1f86f0",
   "metadata": {},
   "source": [
    "выкидываем отсюда пробелы и символы переноса - они нам, кажется, ничего особо нового не скажут, - и находим нормализованную разницу."
   ]
  },
  {
   "cell_type": "code",
   "execution_count": 12,
   "id": "c51ea581",
   "metadata": {},
   "outputs": [],
   "source": [
    "frame_c_compared['dif'] = (frame_c_compared.raw - frame_c_compared.clean)/151"
   ]
  },
  {
   "cell_type": "code",
   "execution_count": 13,
   "id": "6c16929b",
   "metadata": {
    "scrolled": true
   },
   "outputs": [
    {
     "data": {
      "text/html": [
       "<div>\n",
       "<style scoped>\n",
       "    .dataframe tbody tr th:only-of-type {\n",
       "        vertical-align: middle;\n",
       "    }\n",
       "\n",
       "    .dataframe tbody tr th {\n",
       "        vertical-align: top;\n",
       "    }\n",
       "\n",
       "    .dataframe thead th {\n",
       "        text-align: right;\n",
       "    }\n",
       "</style>\n",
       "<table border=\"1\" class=\"dataframe\">\n",
       "  <thead>\n",
       "    <tr style=\"text-align: right;\">\n",
       "      <th></th>\n",
       "      <th>raw</th>\n",
       "      <th>clean</th>\n",
       "      <th>dif</th>\n",
       "    </tr>\n",
       "  </thead>\n",
       "  <tbody>\n",
       "    <tr>\n",
       "      <th>ѣ</th>\n",
       "      <td>32674.0</td>\n",
       "      <td>37268.0</td>\n",
       "      <td>-30.423841</td>\n",
       "    </tr>\n",
       "    <tr>\n",
       "      <th>!</th>\n",
       "      <td>1877.0</td>\n",
       "      <td>1980.0</td>\n",
       "      <td>-0.682119</td>\n",
       "    </tr>\n",
       "    <tr>\n",
       "      <th>х</th>\n",
       "      <td>16085.0</td>\n",
       "      <td>18510.0</td>\n",
       "      <td>-16.059603</td>\n",
       "    </tr>\n",
       "    <tr>\n",
       "      <th>ю</th>\n",
       "      <td>14023.0</td>\n",
       "      <td>15500.0</td>\n",
       "      <td>-9.781457</td>\n",
       "    </tr>\n",
       "    <tr>\n",
       "      <th>э</th>\n",
       "      <td>6025.0</td>\n",
       "      <td>6785.0</td>\n",
       "      <td>-5.033113</td>\n",
       "    </tr>\n",
       "    <tr>\n",
       "      <th>:</th>\n",
       "      <td>2620.0</td>\n",
       "      <td>2932.0</td>\n",
       "      <td>-2.066225</td>\n",
       "    </tr>\n",
       "    <tr>\n",
       "      <th>x</th>\n",
       "      <td>501.0</td>\n",
       "      <td>588.0</td>\n",
       "      <td>-0.576159</td>\n",
       "    </tr>\n",
       "    <tr>\n",
       "      <th>—</th>\n",
       "      <td>4586.0</td>\n",
       "      <td>4953.0</td>\n",
       "      <td>-2.430464</td>\n",
       "    </tr>\n",
       "    <tr>\n",
       "      <th>»</th>\n",
       "      <td>1602.0</td>\n",
       "      <td>1821.0</td>\n",
       "      <td>-1.450331</td>\n",
       "    </tr>\n",
       "    <tr>\n",
       "      <th>«</th>\n",
       "      <td>4154.0</td>\n",
       "      <td>3667.0</td>\n",
       "      <td>3.225166</td>\n",
       "    </tr>\n",
       "    <tr>\n",
       "      <th>?</th>\n",
       "      <td>1547.0</td>\n",
       "      <td>1606.0</td>\n",
       "      <td>-0.390728</td>\n",
       "    </tr>\n",
       "    <tr>\n",
       "      <th>щ</th>\n",
       "      <td>5835.0</td>\n",
       "      <td>6507.0</td>\n",
       "      <td>-4.450331</td>\n",
       "    </tr>\n",
       "    <tr>\n",
       "      <th>(</th>\n",
       "      <td>1035.0</td>\n",
       "      <td>1160.0</td>\n",
       "      <td>-0.827815</td>\n",
       "    </tr>\n",
       "    <tr>\n",
       "      <th>)</th>\n",
       "      <td>1340.0</td>\n",
       "      <td>1543.0</td>\n",
       "      <td>-1.344371</td>\n",
       "    </tr>\n",
       "    <tr>\n",
       "      <th>0</th>\n",
       "      <td>693.0</td>\n",
       "      <td>1296.0</td>\n",
       "      <td>-3.993377</td>\n",
       "    </tr>\n",
       "    <tr>\n",
       "      <th>ё</th>\n",
       "      <td>741.0</td>\n",
       "      <td>456.0</td>\n",
       "      <td>1.887417</td>\n",
       "    </tr>\n",
       "    <tr>\n",
       "      <th>ѳ</th>\n",
       "      <td>162.0</td>\n",
       "      <td>206.0</td>\n",
       "      <td>-0.291391</td>\n",
       "    </tr>\n",
       "    <tr>\n",
       "      <th>&lt;</th>\n",
       "      <td>37.0</td>\n",
       "      <td>0.0</td>\n",
       "      <td>0.245033</td>\n",
       "    </tr>\n",
       "    <tr>\n",
       "      <th>&gt;</th>\n",
       "      <td>133.0</td>\n",
       "      <td>2.0</td>\n",
       "      <td>0.867550</td>\n",
       "    </tr>\n",
       "    <tr>\n",
       "      <th>ѵ</th>\n",
       "      <td>82.0</td>\n",
       "      <td>21.0</td>\n",
       "      <td>0.403974</td>\n",
       "    </tr>\n",
       "  </tbody>\n",
       "</table>\n",
       "</div>"
      ],
      "text/plain": [
       "       raw    clean        dif\n",
       "ѣ  32674.0  37268.0 -30.423841\n",
       "!   1877.0   1980.0  -0.682119\n",
       "х  16085.0  18510.0 -16.059603\n",
       "ю  14023.0  15500.0  -9.781457\n",
       "э   6025.0   6785.0  -5.033113\n",
       ":   2620.0   2932.0  -2.066225\n",
       "x    501.0    588.0  -0.576159\n",
       "—   4586.0   4953.0  -2.430464\n",
       "»   1602.0   1821.0  -1.450331\n",
       "«   4154.0   3667.0   3.225166\n",
       "?   1547.0   1606.0  -0.390728\n",
       "щ   5835.0   6507.0  -4.450331\n",
       "(   1035.0   1160.0  -0.827815\n",
       ")   1340.0   1543.0  -1.344371\n",
       "0    693.0   1296.0  -3.993377\n",
       "ё    741.0    456.0   1.887417\n",
       "ѳ    162.0    206.0  -0.291391\n",
       "<     37.0      0.0   0.245033\n",
       ">    133.0      2.0   0.867550\n",
       "ѵ     82.0     21.0   0.403974"
      ]
     },
     "execution_count": 13,
     "metadata": {},
     "output_type": "execute_result"
    }
   ],
   "source": [
    "frame_c_compared[60:80]"
   ]
  },
  {
   "cell_type": "markdown",
   "id": "3c8d88e1",
   "metadata": {},
   "source": [
    "запросим среднее значение и стандартное отклонение и выясним, где находятся границы, где разница сильно отклоняется от средней"
   ]
  },
  {
   "cell_type": "code",
   "execution_count": 14,
   "id": "7554a717",
   "metadata": {},
   "outputs": [
    {
     "data": {
      "text/html": [
       "<div>\n",
       "<style scoped>\n",
       "    .dataframe tbody tr th:only-of-type {\n",
       "        vertical-align: middle;\n",
       "    }\n",
       "\n",
       "    .dataframe tbody tr th {\n",
       "        vertical-align: top;\n",
       "    }\n",
       "\n",
       "    .dataframe thead th {\n",
       "        text-align: right;\n",
       "    }\n",
       "</style>\n",
       "<table border=\"1\" class=\"dataframe\">\n",
       "  <thead>\n",
       "    <tr style=\"text-align: right;\">\n",
       "      <th></th>\n",
       "      <th>raw</th>\n",
       "      <th>clean</th>\n",
       "      <th>dif</th>\n",
       "    </tr>\n",
       "  </thead>\n",
       "  <tbody>\n",
       "    <tr>\n",
       "      <th>count</th>\n",
       "      <td>151.000000</td>\n",
       "      <td>151.000000</td>\n",
       "      <td>151.000000</td>\n",
       "    </tr>\n",
       "    <tr>\n",
       "      <th>mean</th>\n",
       "      <td>12646.953642</td>\n",
       "      <td>14288.476821</td>\n",
       "      <td>-10.871014</td>\n",
       "    </tr>\n",
       "    <tr>\n",
       "      <th>std</th>\n",
       "      <td>29686.347237</td>\n",
       "      <td>33541.084742</td>\n",
       "      <td>27.093486</td>\n",
       "    </tr>\n",
       "    <tr>\n",
       "      <th>min</th>\n",
       "      <td>0.000000</td>\n",
       "      <td>0.000000</td>\n",
       "      <td>-144.966887</td>\n",
       "    </tr>\n",
       "    <tr>\n",
       "      <th>25%</th>\n",
       "      <td>7.000000</td>\n",
       "      <td>6.500000</td>\n",
       "      <td>-4.811258</td>\n",
       "    </tr>\n",
       "    <tr>\n",
       "      <th>50%</th>\n",
       "      <td>218.000000</td>\n",
       "      <td>461.000000</td>\n",
       "      <td>-0.622517</td>\n",
       "    </tr>\n",
       "    <tr>\n",
       "      <th>75%</th>\n",
       "      <td>3863.000000</td>\n",
       "      <td>3933.500000</td>\n",
       "      <td>0.013245</td>\n",
       "    </tr>\n",
       "    <tr>\n",
       "      <th>max</th>\n",
       "      <td>183473.000000</td>\n",
       "      <td>204709.000000</td>\n",
       "      <td>37.562914</td>\n",
       "    </tr>\n",
       "  </tbody>\n",
       "</table>\n",
       "</div>"
      ],
      "text/plain": [
       "                 raw          clean         dif\n",
       "count     151.000000     151.000000  151.000000\n",
       "mean    12646.953642   14288.476821  -10.871014\n",
       "std     29686.347237   33541.084742   27.093486\n",
       "min         0.000000       0.000000 -144.966887\n",
       "25%         7.000000       6.500000   -4.811258\n",
       "50%       218.000000     461.000000   -0.622517\n",
       "75%      3863.000000    3933.500000    0.013245\n",
       "max    183473.000000  204709.000000   37.562914"
      ]
     },
     "execution_count": 14,
     "metadata": {},
     "output_type": "execute_result"
    }
   ],
   "source": [
    "frame_c_compared.describe()"
   ]
  },
  {
   "cell_type": "code",
   "execution_count": 15,
   "id": "af4bde08",
   "metadata": {},
   "outputs": [],
   "source": [
    "lower_crit_c = -37.9645\n",
    "higher_crit_c = 16.222472\n",
    "frame_c_val = frame_c_compared[(frame_c_compared.dif > higher_crit_c) | (frame_c_compared.dif < lower_crit_c)]"
   ]
  },
  {
   "cell_type": "markdown",
   "id": "8fcafa69",
   "metadata": {},
   "source": [
    "теперь можно посмотреть, что у нас с разницей по символам"
   ]
  },
  {
   "cell_type": "markdown",
   "id": "249ac83a",
   "metadata": {},
   "source": [
    "отрицательная разница значит, что символа больше в чистом документе; положительная разница - символа больше в необработанном. "
   ]
  },
  {
   "cell_type": "code",
   "execution_count": 16,
   "id": "24628f35",
   "metadata": {
    "scrolled": false
   },
   "outputs": [
    {
     "data": {
      "text/html": [
       "<div>\n",
       "<style scoped>\n",
       "    .dataframe tbody tr th:only-of-type {\n",
       "        vertical-align: middle;\n",
       "    }\n",
       "\n",
       "    .dataframe tbody tr th {\n",
       "        vertical-align: top;\n",
       "    }\n",
       "\n",
       "    .dataframe thead th {\n",
       "        text-align: right;\n",
       "    }\n",
       "</style>\n",
       "<table border=\"1\" class=\"dataframe\">\n",
       "  <thead>\n",
       "    <tr style=\"text-align: right;\">\n",
       "      <th></th>\n",
       "      <th>raw</th>\n",
       "      <th>clean</th>\n",
       "      <th>dif</th>\n",
       "    </tr>\n",
       "  </thead>\n",
       "  <tbody>\n",
       "    <tr>\n",
       "      <th>н</th>\n",
       "      <td>103728.0</td>\n",
       "      <td>125618.0</td>\n",
       "      <td>-144.966887</td>\n",
       "    </tr>\n",
       "    <tr>\n",
       "      <th>о</th>\n",
       "      <td>183473.0</td>\n",
       "      <td>204709.0</td>\n",
       "      <td>-140.635762</td>\n",
       "    </tr>\n",
       "    <tr>\n",
       "      <th>и</th>\n",
       "      <td>103280.0</td>\n",
       "      <td>121299.0</td>\n",
       "      <td>-119.331126</td>\n",
       "    </tr>\n",
       "    <tr>\n",
       "      <th>а</th>\n",
       "      <td>131200.0</td>\n",
       "      <td>147479.0</td>\n",
       "      <td>-107.807947</td>\n",
       "    </tr>\n",
       "    <tr>\n",
       "      <th>е</th>\n",
       "      <td>113418.0</td>\n",
       "      <td>128497.0</td>\n",
       "      <td>-99.860927</td>\n",
       "    </tr>\n",
       "    <tr>\n",
       "      <th>т</th>\n",
       "      <td>106515.0</td>\n",
       "      <td>120103.0</td>\n",
       "      <td>-89.986755</td>\n",
       "    </tr>\n",
       "    <tr>\n",
       "      <th>с</th>\n",
       "      <td>92287.0</td>\n",
       "      <td>104673.0</td>\n",
       "      <td>-82.026490</td>\n",
       "    </tr>\n",
       "    <tr>\n",
       "      <th>р</th>\n",
       "      <td>77937.0</td>\n",
       "      <td>89125.0</td>\n",
       "      <td>-74.092715</td>\n",
       "    </tr>\n",
       "    <tr>\n",
       "      <th>ъ</th>\n",
       "      <td>86140.0</td>\n",
       "      <td>97291.0</td>\n",
       "      <td>-73.847682</td>\n",
       "    </tr>\n",
       "    <tr>\n",
       "      <th>в</th>\n",
       "      <td>78494.0</td>\n",
       "      <td>87996.0</td>\n",
       "      <td>-62.927152</td>\n",
       "    </tr>\n",
       "    <tr>\n",
       "      <th>л</th>\n",
       "      <td>75458.0</td>\n",
       "      <td>84370.0</td>\n",
       "      <td>-59.019868</td>\n",
       "    </tr>\n",
       "    <tr>\n",
       "      <th>к</th>\n",
       "      <td>54433.0</td>\n",
       "      <td>61695.0</td>\n",
       "      <td>-48.092715</td>\n",
       "    </tr>\n",
       "    <tr>\n",
       "      <th>м</th>\n",
       "      <td>53929.0</td>\n",
       "      <td>60681.0</td>\n",
       "      <td>-44.715232</td>\n",
       "    </tr>\n",
       "    <tr>\n",
       "      <th>д</th>\n",
       "      <td>51797.0</td>\n",
       "      <td>58050.0</td>\n",
       "      <td>-41.410596</td>\n",
       "    </tr>\n",
       "    <tr>\n",
       "      <th>.</th>\n",
       "      <td>21713.0</td>\n",
       "      <td>27724.0</td>\n",
       "      <td>-39.807947</td>\n",
       "    </tr>\n",
       "    <tr>\n",
       "      <th>п</th>\n",
       "      <td>56803.0</td>\n",
       "      <td>51131.0</td>\n",
       "      <td>37.562914</td>\n",
       "    </tr>\n",
       "  </tbody>\n",
       "</table>\n",
       "</div>"
      ],
      "text/plain": [
       "        raw     clean         dif\n",
       "н  103728.0  125618.0 -144.966887\n",
       "о  183473.0  204709.0 -140.635762\n",
       "и  103280.0  121299.0 -119.331126\n",
       "а  131200.0  147479.0 -107.807947\n",
       "е  113418.0  128497.0  -99.860927\n",
       "т  106515.0  120103.0  -89.986755\n",
       "с   92287.0  104673.0  -82.026490\n",
       "р   77937.0   89125.0  -74.092715\n",
       "ъ   86140.0   97291.0  -73.847682\n",
       "в   78494.0   87996.0  -62.927152\n",
       "л   75458.0   84370.0  -59.019868\n",
       "к   54433.0   61695.0  -48.092715\n",
       "м   53929.0   60681.0  -44.715232\n",
       "д   51797.0   58050.0  -41.410596\n",
       ".   21713.0   27724.0  -39.807947\n",
       "п   56803.0   51131.0   37.562914"
      ]
     },
     "execution_count": 16,
     "metadata": {},
     "output_type": "execute_result"
    }
   ],
   "source": [
    "frame_c_val.sort_values('dif')"
   ]
  },
  {
   "cell_type": "markdown",
   "id": "1e413695",
   "metadata": {},
   "source": [
    "вещи, которые отмечали разметчики:\n",
    " - \"н\" и \"и\" часто заменяются на \"п\"\n",
    " - \"и\" заменяется на \"н\"\n",
    " - \"iо\" и \"ю\" заменяется на \"р\"\n",
    " - \"ы\" и \"ь\" путаются"
   ]
  },
  {
   "cell_type": "markdown",
   "id": "cb363500",
   "metadata": {},
   "source": [
    "так, найденные различия действительно в принципе соотносятся с тем, что отмечали разметчики - за исключением разве что ы и ь. Надо пройтись по биграммам из символов, чтобы отследить уже другие жалобы, на замены типа \"их\" - \"нх\"/\"пх\""
   ]
  },
  {
   "cell_type": "markdown",
   "id": "67399a03",
   "metadata": {},
   "source": [
    "механизм примерно тот же - найти все сочетания двух символов по двум документам, залить в датафрейм, выделить разницу"
   ]
  },
  {
   "cell_type": "code",
   "execution_count": 18,
   "id": "b4f16b78",
   "metadata": {},
   "outputs": [],
   "source": [
    "def tuple_join(one_tuple):\n",
    "    return str(one_tuple[0])+str(one_tuple[1])"
   ]
  },
  {
   "cell_type": "code",
   "execution_count": 19,
   "id": "0243bfff",
   "metadata": {},
   "outputs": [],
   "source": [
    "raw_bigrams_char = [x for x in map(tuple_join, list(ngrams(soup_raw[0].lower(), 2))) if x[0] not in stop_list and x[1] not in stop_list]\n",
    "#raw_bigrams_char = [x for x in map(tuple_join, list(ngrams(soup_raw[0].lower(), 2))) if x[0]!=' ' and x[1]!=' ']\n",
    "cleaned_bigrams_char = [x for x in map(tuple_join, list(ngrams(soup_cleaned[0].lower(), 2))) if x[0] not in stop_list and x[1] not in stop_list]"
   ]
  },
  {
   "cell_type": "code",
   "execution_count": 20,
   "id": "4ffd9e59",
   "metadata": {},
   "outputs": [],
   "source": [
    "raw_bigrams_char_count = dict(Counter(raw_bigrams_char))\n",
    "cleaned_bigrams_char_count = dict(Counter(cleaned_bigrams_char))"
   ]
  },
  {
   "cell_type": "code",
   "execution_count": 331,
   "id": "96efddc1",
   "metadata": {},
   "outputs": [],
   "source": [
    "raw_bigrams_char_frame = pd.DataFrame.from_dict(raw_bigrams_char_count, orient='index')\n",
    "cleaned_bigrams_char_frame = pd.DataFrame.from_dict(cleaned_bigrams_char_count, orient='index')"
   ]
  },
  {
   "cell_type": "code",
   "execution_count": null,
   "id": "0e9766ff",
   "metadata": {},
   "outputs": [],
   "source": [
    "bigrams_char_c"
   ]
  },
  {
   "cell_type": "code",
   "execution_count": 333,
   "id": "2bd97fe2",
   "metadata": {},
   "outputs": [],
   "source": [
    "bigrams_char_c = pd.concat([raw_bigrams_char_frame, cleaned_bigrams_char_frame], axis=1).fillna(0)"
   ]
  },
  {
   "cell_type": "code",
   "execution_count": null,
   "id": "d8df9ff6",
   "metadata": {},
   "outputs": [],
   "source": [
    "bigrams_char_c.columns = ['raw', 'clean']\n",
    "bigrams_char_c['dif'] = (bigrams_char_c.raw - bigrams_char_c.clean)/4549"
   ]
  },
  {
   "cell_type": "code",
   "execution_count": 336,
   "id": "1fef68e1",
   "metadata": {},
   "outputs": [
    {
     "data": {
      "text/html": [
       "<div>\n",
       "<style scoped>\n",
       "    .dataframe tbody tr th:only-of-type {\n",
       "        vertical-align: middle;\n",
       "    }\n",
       "\n",
       "    .dataframe tbody tr th {\n",
       "        vertical-align: top;\n",
       "    }\n",
       "\n",
       "    .dataframe thead th {\n",
       "        text-align: right;\n",
       "    }\n",
       "</style>\n",
       "<table border=\"1\" class=\"dataframe\">\n",
       "  <thead>\n",
       "    <tr style=\"text-align: right;\">\n",
       "      <th></th>\n",
       "      <th>raw</th>\n",
       "      <th>clean</th>\n",
       "      <th>dif</th>\n",
       "    </tr>\n",
       "  </thead>\n",
       "  <tbody>\n",
       "    <tr>\n",
       "      <th>count</th>\n",
       "      <td>4549.000000</td>\n",
       "      <td>4549.000000</td>\n",
       "      <td>4549.000000</td>\n",
       "    </tr>\n",
       "    <tr>\n",
       "      <th>mean</th>\n",
       "      <td>349.814465</td>\n",
       "      <td>395.706089</td>\n",
       "      <td>-0.010088</td>\n",
       "    </tr>\n",
       "    <tr>\n",
       "      <th>std</th>\n",
       "      <td>1534.059207</td>\n",
       "      <td>1758.026792</td>\n",
       "      <td>0.054641</td>\n",
       "    </tr>\n",
       "    <tr>\n",
       "      <th>min</th>\n",
       "      <td>0.000000</td>\n",
       "      <td>0.000000</td>\n",
       "      <td>-1.054517</td>\n",
       "    </tr>\n",
       "    <tr>\n",
       "      <th>25%</th>\n",
       "      <td>1.000000</td>\n",
       "      <td>0.000000</td>\n",
       "      <td>-0.001319</td>\n",
       "    </tr>\n",
       "    <tr>\n",
       "      <th>50%</th>\n",
       "      <td>3.000000</td>\n",
       "      <td>2.000000</td>\n",
       "      <td>0.000000</td>\n",
       "    </tr>\n",
       "    <tr>\n",
       "      <th>75%</th>\n",
       "      <td>34.000000</td>\n",
       "      <td>37.000000</td>\n",
       "      <td>0.000220</td>\n",
       "    </tr>\n",
       "    <tr>\n",
       "      <th>max</th>\n",
       "      <td>26136.000000</td>\n",
       "      <td>29773.000000</td>\n",
       "      <td>0.397230</td>\n",
       "    </tr>\n",
       "  </tbody>\n",
       "</table>\n",
       "</div>"
      ],
      "text/plain": [
       "                raw         clean          dif\n",
       "count   4549.000000   4549.000000  4549.000000\n",
       "mean     349.814465    395.706089    -0.010088\n",
       "std     1534.059207   1758.026792     0.054641\n",
       "min        0.000000      0.000000    -1.054517\n",
       "25%        1.000000      0.000000    -0.001319\n",
       "50%        3.000000      2.000000     0.000000\n",
       "75%       34.000000     37.000000     0.000220\n",
       "max    26136.000000  29773.000000     0.397230"
      ]
     },
     "execution_count": 336,
     "metadata": {},
     "output_type": "execute_result"
    }
   ],
   "source": [
    "bigrams_char_c.describe()"
   ]
  },
  {
   "cell_type": "code",
   "execution_count": 337,
   "id": "1ab4a164",
   "metadata": {},
   "outputs": [],
   "source": [
    "lower_crit = -0.064729\n",
    "higher_crit = 0.044553\n",
    "bigrams_char_val = bigrams_char_c[(bigrams_char_c.dif > higher_crit) | (bigrams_char_c.dif < lower_crit)]"
   ]
  },
  {
   "cell_type": "markdown",
   "id": "100f8ab5",
   "metadata": {},
   "source": [
    "на что жаловались разметчики:\n",
    "- \"на\" прочитано как \"па\"\n",
    "- \"ни\" прочитано как \"пи\"\n",
    "- \"он\" прочитано как \"оп\"\n",
    "- \"их\" прочитано как \"нх\"\n",
    "- \"не\" прочитано как \"пе\""
   ]
  },
  {
   "cell_type": "markdown",
   "id": "455e6e82",
   "metadata": {},
   "source": [
    "биграмм у нас значительно больше, чем символов, так что весь список выходящих за рамки колебаний биграмм мы сразу взглядом не окинем. Вытащим список из пятнадцати биграмм, которые чаще встречаются в чистом документе, чем в грязном."
   ]
  },
  {
   "cell_type": "code",
   "execution_count": 338,
   "id": "54436057",
   "metadata": {},
   "outputs": [
    {
     "data": {
      "text/html": [
       "<div>\n",
       "<style scoped>\n",
       "    .dataframe tbody tr th:only-of-type {\n",
       "        vertical-align: middle;\n",
       "    }\n",
       "\n",
       "    .dataframe tbody tr th {\n",
       "        vertical-align: top;\n",
       "    }\n",
       "\n",
       "    .dataframe thead th {\n",
       "        text-align: right;\n",
       "    }\n",
       "</style>\n",
       "<table border=\"1\" class=\"dataframe\">\n",
       "  <thead>\n",
       "    <tr style=\"text-align: right;\">\n",
       "      <th></th>\n",
       "      <th>raw</th>\n",
       "      <th>clean</th>\n",
       "      <th>dif</th>\n",
       "    </tr>\n",
       "  </thead>\n",
       "  <tbody>\n",
       "    <tr>\n",
       "      <th>на</th>\n",
       "      <td>18048.0</td>\n",
       "      <td>22845.0</td>\n",
       "      <td>-1.054517</td>\n",
       "    </tr>\n",
       "    <tr>\n",
       "      <th>ст</th>\n",
       "      <td>26136.0</td>\n",
       "      <td>29773.0</td>\n",
       "      <td>-0.799516</td>\n",
       "    </tr>\n",
       "    <tr>\n",
       "      <th>но</th>\n",
       "      <td>17486.0</td>\n",
       "      <td>20826.0</td>\n",
       "      <td>-0.734227</td>\n",
       "    </tr>\n",
       "    <tr>\n",
       "      <th>не</th>\n",
       "      <td>11300.0</td>\n",
       "      <td>14422.0</td>\n",
       "      <td>-0.686305</td>\n",
       "    </tr>\n",
       "    <tr>\n",
       "      <th>..</th>\n",
       "      <td>2735.0</td>\n",
       "      <td>5766.0</td>\n",
       "      <td>-0.666300</td>\n",
       "    </tr>\n",
       "    <tr>\n",
       "      <th>он</th>\n",
       "      <td>7495.0</td>\n",
       "      <td>10469.0</td>\n",
       "      <td>-0.653770</td>\n",
       "    </tr>\n",
       "    <tr>\n",
       "      <th>ра</th>\n",
       "      <td>16594.0</td>\n",
       "      <td>19401.0</td>\n",
       "      <td>-0.617059</td>\n",
       "    </tr>\n",
       "    <tr>\n",
       "      <th>ен</th>\n",
       "      <td>16432.0</td>\n",
       "      <td>19178.0</td>\n",
       "      <td>-0.603649</td>\n",
       "    </tr>\n",
       "    <tr>\n",
       "      <th>ов</th>\n",
       "      <td>13881.0</td>\n",
       "      <td>16213.0</td>\n",
       "      <td>-0.512640</td>\n",
       "    </tr>\n",
       "    <tr>\n",
       "      <th>ос</th>\n",
       "      <td>12709.0</td>\n",
       "      <td>14840.0</td>\n",
       "      <td>-0.468455</td>\n",
       "    </tr>\n",
       "    <tr>\n",
       "      <th>ни</th>\n",
       "      <td>8819.0</td>\n",
       "      <td>10852.0</td>\n",
       "      <td>-0.446911</td>\n",
       "    </tr>\n",
       "    <tr>\n",
       "      <th>ли</th>\n",
       "      <td>12168.0</td>\n",
       "      <td>14183.0</td>\n",
       "      <td>-0.442954</td>\n",
       "    </tr>\n",
       "    <tr>\n",
       "      <th>го</th>\n",
       "      <td>15939.0</td>\n",
       "      <td>17908.0</td>\n",
       "      <td>-0.432842</td>\n",
       "    </tr>\n",
       "    <tr>\n",
       "      <th>въ</th>\n",
       "      <td>13488.0</td>\n",
       "      <td>15455.0</td>\n",
       "      <td>-0.432403</td>\n",
       "    </tr>\n",
       "    <tr>\n",
       "      <th>ор</th>\n",
       "      <td>12403.0</td>\n",
       "      <td>14346.0</td>\n",
       "      <td>-0.427127</td>\n",
       "    </tr>\n",
       "  </tbody>\n",
       "</table>\n",
       "</div>"
      ],
      "text/plain": [
       "        raw    clean       dif\n",
       "на  18048.0  22845.0 -1.054517\n",
       "ст  26136.0  29773.0 -0.799516\n",
       "но  17486.0  20826.0 -0.734227\n",
       "не  11300.0  14422.0 -0.686305\n",
       "..   2735.0   5766.0 -0.666300\n",
       "он   7495.0  10469.0 -0.653770\n",
       "ра  16594.0  19401.0 -0.617059\n",
       "ен  16432.0  19178.0 -0.603649\n",
       "ов  13881.0  16213.0 -0.512640\n",
       "ос  12709.0  14840.0 -0.468455\n",
       "ни   8819.0  10852.0 -0.446911\n",
       "ли  12168.0  14183.0 -0.442954\n",
       "го  15939.0  17908.0 -0.432842\n",
       "въ  13488.0  15455.0 -0.432403\n",
       "ор  12403.0  14346.0 -0.427127"
      ]
     },
     "execution_count": 338,
     "metadata": {},
     "output_type": "execute_result"
    }
   ],
   "source": [
    "bigrams_char_val.sort_values('dif')[:15]"
   ]
  },
  {
   "cell_type": "markdown",
   "id": "01a81314",
   "metadata": {},
   "source": [
    "и список из пятнадцати биграмм, которые больше нравятся грязному документу."
   ]
  },
  {
   "cell_type": "code",
   "execution_count": 339,
   "id": "0049f3d1",
   "metadata": {},
   "outputs": [
    {
     "data": {
      "text/html": [
       "<div>\n",
       "<style scoped>\n",
       "    .dataframe tbody tr th:only-of-type {\n",
       "        vertical-align: middle;\n",
       "    }\n",
       "\n",
       "    .dataframe tbody tr th {\n",
       "        vertical-align: top;\n",
       "    }\n",
       "\n",
       "    .dataframe thead th {\n",
       "        text-align: right;\n",
       "    }\n",
       "</style>\n",
       "<table border=\"1\" class=\"dataframe\">\n",
       "  <thead>\n",
       "    <tr style=\"text-align: right;\">\n",
       "      <th></th>\n",
       "      <th>raw</th>\n",
       "      <th>clean</th>\n",
       "      <th>dif</th>\n",
       "    </tr>\n",
       "  </thead>\n",
       "  <tbody>\n",
       "    <tr>\n",
       "      <th>па</th>\n",
       "      <td>5201.0</td>\n",
       "      <td>3394.0</td>\n",
       "      <td>0.397230</td>\n",
       "    </tr>\n",
       "    <tr>\n",
       "      <th>іі</th>\n",
       "      <td>1370.0</td>\n",
       "      <td>36.0</td>\n",
       "      <td>0.293251</td>\n",
       "    </tr>\n",
       "    <tr>\n",
       "      <th>оп</th>\n",
       "      <td>4260.0</td>\n",
       "      <td>2935.0</td>\n",
       "      <td>0.291273</td>\n",
       "    </tr>\n",
       "    <tr>\n",
       "      <th>.—</th>\n",
       "      <td>1226.0</td>\n",
       "      <td>156.0</td>\n",
       "      <td>0.235217</td>\n",
       "    </tr>\n",
       "    <tr>\n",
       "      <th>пе</th>\n",
       "      <td>5225.0</td>\n",
       "      <td>4350.0</td>\n",
       "      <td>0.192350</td>\n",
       "    </tr>\n",
       "    <tr>\n",
       "      <th>пъ</th>\n",
       "      <td>987.0</td>\n",
       "      <td>142.0</td>\n",
       "      <td>0.185755</td>\n",
       "    </tr>\n",
       "    <tr>\n",
       "      <th>-с</th>\n",
       "      <td>1350.0</td>\n",
       "      <td>663.0</td>\n",
       "      <td>0.151022</td>\n",
       "    </tr>\n",
       "    <tr>\n",
       "      <th>-н</th>\n",
       "      <td>1097.0</td>\n",
       "      <td>531.0</td>\n",
       "      <td>0.124423</td>\n",
       "    </tr>\n",
       "    <tr>\n",
       "      <th>-т</th>\n",
       "      <td>1348.0</td>\n",
       "      <td>952.0</td>\n",
       "      <td>0.087052</td>\n",
       "    </tr>\n",
       "    <tr>\n",
       "      <th>-в</th>\n",
       "      <td>715.0</td>\n",
       "      <td>321.0</td>\n",
       "      <td>0.086612</td>\n",
       "    </tr>\n",
       "    <tr>\n",
       "      <th>пх</th>\n",
       "      <td>413.0</td>\n",
       "      <td>20.0</td>\n",
       "      <td>0.086393</td>\n",
       "    </tr>\n",
       "    <tr>\n",
       "      <th>.п</th>\n",
       "      <td>383.0</td>\n",
       "      <td>6.0</td>\n",
       "      <td>0.082875</td>\n",
       "    </tr>\n",
       "    <tr>\n",
       "      <th>.в</th>\n",
       "      <td>384.0</td>\n",
       "      <td>8.0</td>\n",
       "      <td>0.082656</td>\n",
       "    </tr>\n",
       "    <tr>\n",
       "      <th>оі</th>\n",
       "      <td>380.0</td>\n",
       "      <td>13.0</td>\n",
       "      <td>0.080677</td>\n",
       "    </tr>\n",
       "    <tr>\n",
       "      <th>пз</th>\n",
       "      <td>373.0</td>\n",
       "      <td>16.0</td>\n",
       "      <td>0.078479</td>\n",
       "    </tr>\n",
       "  </tbody>\n",
       "</table>\n",
       "</div>"
      ],
      "text/plain": [
       "       raw   clean       dif\n",
       "па  5201.0  3394.0  0.397230\n",
       "іі  1370.0    36.0  0.293251\n",
       "оп  4260.0  2935.0  0.291273\n",
       ".—  1226.0   156.0  0.235217\n",
       "пе  5225.0  4350.0  0.192350\n",
       "пъ   987.0   142.0  0.185755\n",
       "-с  1350.0   663.0  0.151022\n",
       "-н  1097.0   531.0  0.124423\n",
       "-т  1348.0   952.0  0.087052\n",
       "-в   715.0   321.0  0.086612\n",
       "пх   413.0    20.0  0.086393\n",
       ".п   383.0     6.0  0.082875\n",
       ".в   384.0     8.0  0.082656\n",
       "оі   380.0    13.0  0.080677\n",
       "пз   373.0    16.0  0.078479"
      ]
     },
     "execution_count": 339,
     "metadata": {},
     "output_type": "execute_result"
    }
   ],
   "source": [
    "bigrams_char_val.sort_values('dif', ascending=False)[:15]"
   ]
  },
  {
   "cell_type": "markdown",
   "id": "3036433c",
   "metadata": {},
   "source": [
    "что видим? в грязном - сочетания с сомнительными символами из знаков препинания, подозрительно много ii, в лидерах и правда \"па\" и другие сочетания с \"п\", как и ожидалось по словам разметчиков. в чистом - сочетания с буквами \"н\" и \"и\", собственно, и пострадавшими от количества \"п\"; из любопытного - две точки (многоточие)?"
   ]
  },
  {
   "cell_type": "markdown",
   "id": "d2e453be",
   "metadata": {},
   "source": [
    "нужно учитывать, что даже проверенный разметчиками текст не идеален и содержит незамеченные ошибки"
   ]
  },
  {
   "cell_type": "markdown",
   "id": "6a525aa1",
   "metadata": {},
   "source": [
    "# дальше будет жить все, что еще не живет"
   ]
  },
  {
   "cell_type": "markdown",
   "id": "ed242ef7",
   "metadata": {},
   "source": [
    "оценка точности АББИИ без спеллчекера модулем Jury"
   ]
  },
  {
   "cell_type": "code",
   "execution_count": 347,
   "id": "4110d7e3",
   "metadata": {},
   "outputs": [],
   "source": [
    "scorer = Jury()"
   ]
  },
  {
   "cell_type": "code",
   "execution_count": 348,
   "id": "1e91ef71",
   "metadata": {},
   "outputs": [],
   "source": [
    "scores = scorer.evaluate(predictions=soup_raw, references=soup_cleaned)"
   ]
  },
  {
   "cell_type": "code",
   "execution_count": 350,
   "id": "0bac95af",
   "metadata": {
    "scrolled": true
   },
   "outputs": [
    {
     "data": {
      "text/plain": [
       "{'empty_predictions': 0,\n",
       " 'total_items': 1,\n",
       " 'bleu_1': {'score': 0.7821024009231794,\n",
       "  'precisions': [0.8838556957744746],\n",
       "  'brevity_penalty': 0.8848756699337278,\n",
       "  'length_ratio': 0.8910209001013504,\n",
       "  'translation_length': 325285,\n",
       "  'reference_length': 365070},\n",
       " 'bleu_2': {'score': 0.7281178234959058,\n",
       "  'precisions': [0.8838556957744746, 0.7660505896385927],\n",
       "  'brevity_penalty': 0.8848756699337278,\n",
       "  'length_ratio': 0.8910209001013504,\n",
       "  'translation_length': 325285,\n",
       "  'reference_length': 365070},\n",
       " 'bleu_3': {'score': 0.6792911507768497,\n",
       "  'precisions': [0.8838556957744746, 0.7660505896385927, 0.6681627997774245],\n",
       "  'brevity_penalty': 0.8848756699337278,\n",
       "  'length_ratio': 0.8910209001013504,\n",
       "  'translation_length': 325285,\n",
       "  'reference_length': 365070},\n",
       " 'bleu_4': {'score': 0.6343639340409344,\n",
       "  'precisions': [0.8838556957744746,\n",
       "   0.7660505896385927,\n",
       "   0.6681627997774245,\n",
       "   0.5838533949004249],\n",
       "  'brevity_penalty': 0.8848756699337278,\n",
       "  'length_ratio': 0.8910209001013504,\n",
       "  'translation_length': 325285,\n",
       "  'reference_length': 365070},\n",
       " 'meteor': {'score': 0.4963923710755421},\n",
       " 'rouge': {'rouge1': 0.6482123715240556,\n",
       "  'rouge2': 0.4731033612915432,\n",
       "  'rougeL': 0.5874266977741346,\n",
       "  'rougeLsum': 0.5874266977741346}}"
      ]
     },
     "execution_count": 350,
     "metadata": {},
     "output_type": "execute_result"
    }
   ],
   "source": [
    "dict(scores)"
   ]
  },
  {
   "cell_type": "markdown",
   "id": "719b01f4",
   "metadata": {},
   "source": [
    "надо разбираться, что он вообще имеет в виду, но данные красивые - можно прикрепить в виде таблички (с пояснениями, что это за метрики, конечно)"
   ]
  },
  {
   "cell_type": "markdown",
   "id": "4fb79246",
   "metadata": {},
   "source": [
    "штуки, которые надо пробовать"
   ]
  },
  {
   "cell_type": "markdown",
   "id": "9cae5656",
   "metadata": {},
   "source": [
    "queue: tesseract(tesseract-ocr-wrapper, https://github.com/Altabeh/tesseract-ocr-wrapper), easyOCR(https://github.com/JaidedAI/EasyOCR), Attention-OCR(https://github.com/da03/Attention-OCR), doctr(https://github.com/mindee/doctr), Ocular(https://github.com/tberg12/ocular)"
   ]
  },
  {
   "cell_type": "markdown",
   "id": "8c84df60",
   "metadata": {},
   "source": [
    "апдейт 1: doctr попробован в облачной версии в huggingface во всех своих лицах, и все четыре модели споткнулись о невозможность угадать язык и выдавали кашу. Из плюсов? Была возможность потыкать в разные модели для детекции текста на изображении, и РезНеты определенно хороши и справляются с проступающими с другой страницы строками. Надо узнать, чем текст находит АББИИ и при необходимости иметь в виду какую-нибудь небольшую РезНет. Но сейчас буду пробовать просто дать ему новый словарь символов"
   ]
  }
 ],
 "metadata": {
  "kernelspec": {
   "display_name": "Python 3 (ipykernel)",
   "language": "python",
   "name": "python3"
  },
  "language_info": {
   "codemirror_mode": {
    "name": "ipython",
    "version": 3
   },
   "file_extension": ".py",
   "mimetype": "text/x-python",
   "name": "python",
   "nbconvert_exporter": "python",
   "pygments_lexer": "ipython3",
   "version": "3.9.7"
  }
 },
 "nbformat": 4,
 "nbformat_minor": 5
}
